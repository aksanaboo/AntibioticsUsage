{
  "nbformat": 4,
  "nbformat_minor": 0,
  "metadata": {
    "colab": {
      "provenance": [],
      "authorship_tag": "ABX9TyM1MOqaoHzd80YE69bn+88C",
      "include_colab_link": true
    },
    "kernelspec": {
      "name": "python3",
      "display_name": "Python 3"
    },
    "language_info": {
      "name": "python"
    }
  },
  "cells": [
    {
      "cell_type": "markdown",
      "metadata": {
        "id": "view-in-github",
        "colab_type": "text"
      },
      "source": [
        "<a href=\"https://colab.research.google.com/github/aksanaboo/AntibioticsUsage/blob/main/AntibioticsUsage.ipynb\" target=\"_parent\"><img src=\"https://colab.research.google.com/assets/colab-badge.svg\" alt=\"Open In Colab\"/></a>"
      ]
    },
    {
      "cell_type": "code",
      "execution_count": 9,
      "metadata": {
        "colab": {
          "base_uri": "https://localhost:8080/"
        },
        "id": "LWgeXG4_7qXo",
        "outputId": "767cc40b-50d0-44d8-ae4f-b69d87f2eb7e"
      },
      "outputs": [
        {
          "output_type": "stream",
          "name": "stdout",
          "text": [
            "Drive already mounted at /content/drive; to attempt to forcibly remount, call drive.mount(\"/content/drive\", force_remount=True).\n"
          ]
        }
      ],
      "source": [
        "from google.colab import drive\n",
        "drive.mount('/content/drive')"
      ]
    },
    {
      "cell_type": "code",
      "source": [
        "!pip install vizro"
      ],
      "metadata": {
        "colab": {
          "base_uri": "https://localhost:8080/"
        },
        "id": "fcUvqJiJ-hPq",
        "outputId": "36b2c93e-9dcc-44fc-9361-012dd18e373b"
      },
      "execution_count": 10,
      "outputs": [
        {
          "output_type": "stream",
          "name": "stdout",
          "text": [
            "Requirement already satisfied: vizro in /usr/local/lib/python3.10/dist-packages (0.1.3)\n",
            "Requirement already satisfied: dash-bootstrap-components in /usr/local/lib/python3.10/dist-packages (from vizro) (1.5.0)\n",
            "Requirement already satisfied: dash-daq in /usr/local/lib/python3.10/dist-packages (from vizro) (0.5.0)\n",
            "Requirement already satisfied: dash>=2.11 in /usr/local/lib/python3.10/dist-packages (from vizro) (2.13.0)\n",
            "Requirement already satisfied: ipython>=8.10.0 in /usr/local/lib/python3.10/dist-packages (from vizro) (8.16.1)\n",
            "Requirement already satisfied: markupsafe in /usr/local/lib/python3.10/dist-packages (from vizro) (2.1.3)\n",
            "Requirement already satisfied: numpy>=1.22.2 in /usr/local/lib/python3.10/dist-packages (from vizro) (1.23.5)\n",
            "Requirement already satisfied: pandas in /usr/local/lib/python3.10/dist-packages (from vizro) (1.5.3)\n",
            "Requirement already satisfied: pydantic<2.0.0 in /usr/local/lib/python3.10/dist-packages (from vizro) (1.10.13)\n",
            "Requirement already satisfied: setuptools>=65.5.1 in /usr/local/lib/python3.10/dist-packages (from vizro) (67.7.2)\n",
            "Requirement already satisfied: tornado>=6.3.2 in /usr/local/lib/python3.10/dist-packages (from vizro) (6.3.2)\n",
            "Requirement already satisfied: Flask<2.3.0,>=1.0.4 in /usr/local/lib/python3.10/dist-packages (from dash>=2.11->vizro) (2.2.5)\n",
            "Requirement already satisfied: Werkzeug<2.3.0 in /usr/local/lib/python3.10/dist-packages (from dash>=2.11->vizro) (2.2.3)\n",
            "Requirement already satisfied: plotly>=5.0.0 in /usr/local/lib/python3.10/dist-packages (from dash>=2.11->vizro) (5.15.0)\n",
            "Requirement already satisfied: dash-html-components==2.0.0 in /usr/local/lib/python3.10/dist-packages (from dash>=2.11->vizro) (2.0.0)\n",
            "Requirement already satisfied: dash-core-components==2.0.0 in /usr/local/lib/python3.10/dist-packages (from dash>=2.11->vizro) (2.0.0)\n",
            "Requirement already satisfied: dash-table==5.0.0 in /usr/local/lib/python3.10/dist-packages (from dash>=2.11->vizro) (5.0.0)\n",
            "Requirement already satisfied: typing-extensions>=4.1.1 in /usr/local/lib/python3.10/dist-packages (from dash>=2.11->vizro) (4.5.0)\n",
            "Requirement already satisfied: requests in /usr/local/lib/python3.10/dist-packages (from dash>=2.11->vizro) (2.31.0)\n",
            "Requirement already satisfied: retrying in /usr/local/lib/python3.10/dist-packages (from dash>=2.11->vizro) (1.3.4)\n",
            "Requirement already satisfied: ansi2html in /usr/local/lib/python3.10/dist-packages (from dash>=2.11->vizro) (1.8.0)\n",
            "Requirement already satisfied: nest-asyncio in /usr/local/lib/python3.10/dist-packages (from dash>=2.11->vizro) (1.5.8)\n",
            "Requirement already satisfied: backcall in /usr/local/lib/python3.10/dist-packages (from ipython>=8.10.0->vizro) (0.2.0)\n",
            "Requirement already satisfied: decorator in /usr/local/lib/python3.10/dist-packages (from ipython>=8.10.0->vizro) (4.4.2)\n",
            "Requirement already satisfied: jedi>=0.16 in /usr/local/lib/python3.10/dist-packages (from ipython>=8.10.0->vizro) (0.19.1)\n",
            "Requirement already satisfied: matplotlib-inline in /usr/local/lib/python3.10/dist-packages (from ipython>=8.10.0->vizro) (0.1.6)\n",
            "Requirement already satisfied: pickleshare in /usr/local/lib/python3.10/dist-packages (from ipython>=8.10.0->vizro) (0.7.5)\n",
            "Requirement already satisfied: prompt-toolkit!=3.0.37,<3.1.0,>=3.0.30 in /usr/local/lib/python3.10/dist-packages (from ipython>=8.10.0->vizro) (3.0.39)\n",
            "Requirement already satisfied: pygments>=2.4.0 in /usr/local/lib/python3.10/dist-packages (from ipython>=8.10.0->vizro) (2.16.1)\n",
            "Requirement already satisfied: stack-data in /usr/local/lib/python3.10/dist-packages (from ipython>=8.10.0->vizro) (0.6.3)\n",
            "Requirement already satisfied: traitlets>=5 in /usr/local/lib/python3.10/dist-packages (from ipython>=8.10.0->vizro) (5.7.1)\n",
            "Requirement already satisfied: exceptiongroup in /usr/local/lib/python3.10/dist-packages (from ipython>=8.10.0->vizro) (1.1.3)\n",
            "Requirement already satisfied: pexpect>4.3 in /usr/local/lib/python3.10/dist-packages (from ipython>=8.10.0->vizro) (4.8.0)\n",
            "Requirement already satisfied: python-dateutil>=2.8.1 in /usr/local/lib/python3.10/dist-packages (from pandas->vizro) (2.8.2)\n",
            "Requirement already satisfied: pytz>=2020.1 in /usr/local/lib/python3.10/dist-packages (from pandas->vizro) (2023.3.post1)\n",
            "Requirement already satisfied: Jinja2>=3.0 in /usr/local/lib/python3.10/dist-packages (from Flask<2.3.0,>=1.0.4->dash>=2.11->vizro) (3.1.2)\n",
            "Requirement already satisfied: itsdangerous>=2.0 in /usr/local/lib/python3.10/dist-packages (from Flask<2.3.0,>=1.0.4->dash>=2.11->vizro) (2.1.2)\n",
            "Requirement already satisfied: click>=8.0 in /usr/local/lib/python3.10/dist-packages (from Flask<2.3.0,>=1.0.4->dash>=2.11->vizro) (8.1.7)\n",
            "Requirement already satisfied: parso<0.9.0,>=0.8.3 in /usr/local/lib/python3.10/dist-packages (from jedi>=0.16->ipython>=8.10.0->vizro) (0.8.3)\n",
            "Requirement already satisfied: ptyprocess>=0.5 in /usr/local/lib/python3.10/dist-packages (from pexpect>4.3->ipython>=8.10.0->vizro) (0.7.0)\n",
            "Requirement already satisfied: tenacity>=6.2.0 in /usr/local/lib/python3.10/dist-packages (from plotly>=5.0.0->dash>=2.11->vizro) (8.2.3)\n",
            "Requirement already satisfied: packaging in /usr/local/lib/python3.10/dist-packages (from plotly>=5.0.0->dash>=2.11->vizro) (23.2)\n",
            "Requirement already satisfied: wcwidth in /usr/local/lib/python3.10/dist-packages (from prompt-toolkit!=3.0.37,<3.1.0,>=3.0.30->ipython>=8.10.0->vizro) (0.2.8)\n",
            "Requirement already satisfied: six>=1.5 in /usr/local/lib/python3.10/dist-packages (from python-dateutil>=2.8.1->pandas->vizro) (1.16.0)\n",
            "Requirement already satisfied: charset-normalizer<4,>=2 in /usr/local/lib/python3.10/dist-packages (from requests->dash>=2.11->vizro) (3.3.0)\n",
            "Requirement already satisfied: idna<4,>=2.5 in /usr/local/lib/python3.10/dist-packages (from requests->dash>=2.11->vizro) (3.4)\n",
            "Requirement already satisfied: urllib3<3,>=1.21.1 in /usr/local/lib/python3.10/dist-packages (from requests->dash>=2.11->vizro) (2.0.6)\n",
            "Requirement already satisfied: certifi>=2017.4.17 in /usr/local/lib/python3.10/dist-packages (from requests->dash>=2.11->vizro) (2023.7.22)\n",
            "Requirement already satisfied: executing>=1.2.0 in /usr/local/lib/python3.10/dist-packages (from stack-data->ipython>=8.10.0->vizro) (2.0.0)\n",
            "Requirement already satisfied: asttokens>=2.1.0 in /usr/local/lib/python3.10/dist-packages (from stack-data->ipython>=8.10.0->vizro) (2.4.0)\n",
            "Requirement already satisfied: pure-eval in /usr/local/lib/python3.10/dist-packages (from stack-data->ipython>=8.10.0->vizro) (0.2.2)\n"
          ]
        }
      ]
    },
    {
      "cell_type": "code",
      "source": [
        "#imports\n",
        "import pandas as pd\n",
        "import numpy as np\n",
        "import matplotlib.pyplot as plt\n",
        "import seaborn as sns\n",
        "import plotly.express as px\n",
        "from plotly.subplots import make_subplots\n",
        "import plotly.graph_objects as go\n",
        "\n",
        "import vizro.plotly.express as px\n",
        "from vizro import Vizro\n",
        "import vizro.models as vm"
      ],
      "metadata": {
        "id": "b0MBWcle8pV9"
      },
      "execution_count": 11,
      "outputs": []
    },
    {
      "cell_type": "code",
      "source": [
        "#dataset\n",
        "data = pd.read_csv('/content/drive/MyDrive/Colab Notebooks/Hospital Dataset.csv')"
      ],
      "metadata": {
        "id": "gXee4G2C-4pi"
      },
      "execution_count": 16,
      "outputs": []
    },
    {
      "cell_type": "code",
      "source": [
        "data.head()"
      ],
      "metadata": {
        "colab": {
          "base_uri": "https://localhost:8080/",
          "height": 293
        },
        "id": "0lAsg5mj_rJ4",
        "outputId": "fed2acd9-bf12-438d-d756-123078af9e78"
      },
      "execution_count": 17,
      "outputs": [
        {
          "output_type": "execute_result",
          "data": {
            "text/plain": [
              "  Age   Date of Data Entry  Gender  \\\n",
              "0  85  19/12/2019 14:41:49  Female   \n",
              "1  87  19/12/2019 16:35:25  Female   \n",
              "2  82  19/12/2019 15:48:49    Male   \n",
              "3  82  19/12/2019 15:50:33    Male   \n",
              "4  82  19/12/2019 15:52:20    Male   \n",
              "\n",
              "                                     Diagnosis  Name of Drug Dosage (gram)  \\\n",
              "0  ccf, hypertension, ida, ckd(stage 5), ?icm,   ceftriaxone             1   \n",
              "1     pad(lt u.l), be amputation,/post op, akt   ceftriaxone             1   \n",
              "2                 type-2dm, ihd, col, copd, ht     ofloxacin           0.4   \n",
              "3                type-2 dm, ihd, col, copd, ht      cefipime             1   \n",
              "4                type-2 dm, ihd, col, copd, ht  azithromycin           0.5   \n",
              "\n",
              "  Route Frequency Duration (days)                        Indication  \n",
              "0    IV        BD               7                               icm  \n",
              "1    IV        BD               1                           post op  \n",
              "2    IV        BD               3  abd distension with leg swelling  \n",
              "3    IV        BD               5  abd distension with leg swelling  \n",
              "4  Oral        OD               3  abd distension with leg swelling  "
            ],
            "text/html": [
              "\n",
              "  <div id=\"df-57dc523c-a6c4-40c7-b88b-62f97711e31a\" class=\"colab-df-container\">\n",
              "    <div>\n",
              "<style scoped>\n",
              "    .dataframe tbody tr th:only-of-type {\n",
              "        vertical-align: middle;\n",
              "    }\n",
              "\n",
              "    .dataframe tbody tr th {\n",
              "        vertical-align: top;\n",
              "    }\n",
              "\n",
              "    .dataframe thead th {\n",
              "        text-align: right;\n",
              "    }\n",
              "</style>\n",
              "<table border=\"1\" class=\"dataframe\">\n",
              "  <thead>\n",
              "    <tr style=\"text-align: right;\">\n",
              "      <th></th>\n",
              "      <th>Age</th>\n",
              "      <th>Date of Data Entry</th>\n",
              "      <th>Gender</th>\n",
              "      <th>Diagnosis</th>\n",
              "      <th>Name of Drug</th>\n",
              "      <th>Dosage (gram)</th>\n",
              "      <th>Route</th>\n",
              "      <th>Frequency</th>\n",
              "      <th>Duration (days)</th>\n",
              "      <th>Indication</th>\n",
              "    </tr>\n",
              "  </thead>\n",
              "  <tbody>\n",
              "    <tr>\n",
              "      <th>0</th>\n",
              "      <td>85</td>\n",
              "      <td>19/12/2019 14:41:49</td>\n",
              "      <td>Female</td>\n",
              "      <td>ccf, hypertension, ida, ckd(stage 5), ?icm,</td>\n",
              "      <td>ceftriaxone</td>\n",
              "      <td>1</td>\n",
              "      <td>IV</td>\n",
              "      <td>BD</td>\n",
              "      <td>7</td>\n",
              "      <td>icm</td>\n",
              "    </tr>\n",
              "    <tr>\n",
              "      <th>1</th>\n",
              "      <td>87</td>\n",
              "      <td>19/12/2019 16:35:25</td>\n",
              "      <td>Female</td>\n",
              "      <td>pad(lt u.l), be amputation,/post op, akt</td>\n",
              "      <td>ceftriaxone</td>\n",
              "      <td>1</td>\n",
              "      <td>IV</td>\n",
              "      <td>BD</td>\n",
              "      <td>1</td>\n",
              "      <td>post op</td>\n",
              "    </tr>\n",
              "    <tr>\n",
              "      <th>2</th>\n",
              "      <td>82</td>\n",
              "      <td>19/12/2019 15:48:49</td>\n",
              "      <td>Male</td>\n",
              "      <td>type-2dm, ihd, col, copd, ht</td>\n",
              "      <td>ofloxacin</td>\n",
              "      <td>0.4</td>\n",
              "      <td>IV</td>\n",
              "      <td>BD</td>\n",
              "      <td>3</td>\n",
              "      <td>abd distension with leg swelling</td>\n",
              "    </tr>\n",
              "    <tr>\n",
              "      <th>3</th>\n",
              "      <td>82</td>\n",
              "      <td>19/12/2019 15:50:33</td>\n",
              "      <td>Male</td>\n",
              "      <td>type-2 dm, ihd, col, copd, ht</td>\n",
              "      <td>cefipime</td>\n",
              "      <td>1</td>\n",
              "      <td>IV</td>\n",
              "      <td>BD</td>\n",
              "      <td>5</td>\n",
              "      <td>abd distension with leg swelling</td>\n",
              "    </tr>\n",
              "    <tr>\n",
              "      <th>4</th>\n",
              "      <td>82</td>\n",
              "      <td>19/12/2019 15:52:20</td>\n",
              "      <td>Male</td>\n",
              "      <td>type-2 dm, ihd, col, copd, ht</td>\n",
              "      <td>azithromycin</td>\n",
              "      <td>0.5</td>\n",
              "      <td>Oral</td>\n",
              "      <td>OD</td>\n",
              "      <td>3</td>\n",
              "      <td>abd distension with leg swelling</td>\n",
              "    </tr>\n",
              "  </tbody>\n",
              "</table>\n",
              "</div>\n",
              "    <div class=\"colab-df-buttons\">\n",
              "\n",
              "  <div class=\"colab-df-container\">\n",
              "    <button class=\"colab-df-convert\" onclick=\"convertToInteractive('df-57dc523c-a6c4-40c7-b88b-62f97711e31a')\"\n",
              "            title=\"Convert this dataframe to an interactive table.\"\n",
              "            style=\"display:none;\">\n",
              "\n",
              "  <svg xmlns=\"http://www.w3.org/2000/svg\" height=\"24px\" viewBox=\"0 -960 960 960\">\n",
              "    <path d=\"M120-120v-720h720v720H120Zm60-500h600v-160H180v160Zm220 220h160v-160H400v160Zm0 220h160v-160H400v160ZM180-400h160v-160H180v160Zm440 0h160v-160H620v160ZM180-180h160v-160H180v160Zm440 0h160v-160H620v160Z\"/>\n",
              "  </svg>\n",
              "    </button>\n",
              "\n",
              "  <style>\n",
              "    .colab-df-container {\n",
              "      display:flex;\n",
              "      gap: 12px;\n",
              "    }\n",
              "\n",
              "    .colab-df-convert {\n",
              "      background-color: #E8F0FE;\n",
              "      border: none;\n",
              "      border-radius: 50%;\n",
              "      cursor: pointer;\n",
              "      display: none;\n",
              "      fill: #1967D2;\n",
              "      height: 32px;\n",
              "      padding: 0 0 0 0;\n",
              "      width: 32px;\n",
              "    }\n",
              "\n",
              "    .colab-df-convert:hover {\n",
              "      background-color: #E2EBFA;\n",
              "      box-shadow: 0px 1px 2px rgba(60, 64, 67, 0.3), 0px 1px 3px 1px rgba(60, 64, 67, 0.15);\n",
              "      fill: #174EA6;\n",
              "    }\n",
              "\n",
              "    .colab-df-buttons div {\n",
              "      margin-bottom: 4px;\n",
              "    }\n",
              "\n",
              "    [theme=dark] .colab-df-convert {\n",
              "      background-color: #3B4455;\n",
              "      fill: #D2E3FC;\n",
              "    }\n",
              "\n",
              "    [theme=dark] .colab-df-convert:hover {\n",
              "      background-color: #434B5C;\n",
              "      box-shadow: 0px 1px 3px 1px rgba(0, 0, 0, 0.15);\n",
              "      filter: drop-shadow(0px 1px 2px rgba(0, 0, 0, 0.3));\n",
              "      fill: #FFFFFF;\n",
              "    }\n",
              "  </style>\n",
              "\n",
              "    <script>\n",
              "      const buttonEl =\n",
              "        document.querySelector('#df-57dc523c-a6c4-40c7-b88b-62f97711e31a button.colab-df-convert');\n",
              "      buttonEl.style.display =\n",
              "        google.colab.kernel.accessAllowed ? 'block' : 'none';\n",
              "\n",
              "      async function convertToInteractive(key) {\n",
              "        const element = document.querySelector('#df-57dc523c-a6c4-40c7-b88b-62f97711e31a');\n",
              "        const dataTable =\n",
              "          await google.colab.kernel.invokeFunction('convertToInteractive',\n",
              "                                                    [key], {});\n",
              "        if (!dataTable) return;\n",
              "\n",
              "        const docLinkHtml = 'Like what you see? Visit the ' +\n",
              "          '<a target=\"_blank\" href=https://colab.research.google.com/notebooks/data_table.ipynb>data table notebook</a>'\n",
              "          + ' to learn more about interactive tables.';\n",
              "        element.innerHTML = '';\n",
              "        dataTable['output_type'] = 'display_data';\n",
              "        await google.colab.output.renderOutput(dataTable, element);\n",
              "        const docLink = document.createElement('div');\n",
              "        docLink.innerHTML = docLinkHtml;\n",
              "        element.appendChild(docLink);\n",
              "      }\n",
              "    </script>\n",
              "  </div>\n",
              "\n",
              "\n",
              "<div id=\"df-110c11c8-ff18-49c5-9bb4-b1f2688c9ad8\">\n",
              "  <button class=\"colab-df-quickchart\" onclick=\"quickchart('df-110c11c8-ff18-49c5-9bb4-b1f2688c9ad8')\"\n",
              "            title=\"Suggest charts.\"\n",
              "            style=\"display:none;\">\n",
              "\n",
              "<svg xmlns=\"http://www.w3.org/2000/svg\" height=\"24px\"viewBox=\"0 0 24 24\"\n",
              "     width=\"24px\">\n",
              "    <g>\n",
              "        <path d=\"M19 3H5c-1.1 0-2 .9-2 2v14c0 1.1.9 2 2 2h14c1.1 0 2-.9 2-2V5c0-1.1-.9-2-2-2zM9 17H7v-7h2v7zm4 0h-2V7h2v10zm4 0h-2v-4h2v4z\"/>\n",
              "    </g>\n",
              "</svg>\n",
              "  </button>\n",
              "\n",
              "<style>\n",
              "  .colab-df-quickchart {\n",
              "      --bg-color: #E8F0FE;\n",
              "      --fill-color: #1967D2;\n",
              "      --hover-bg-color: #E2EBFA;\n",
              "      --hover-fill-color: #174EA6;\n",
              "      --disabled-fill-color: #AAA;\n",
              "      --disabled-bg-color: #DDD;\n",
              "  }\n",
              "\n",
              "  [theme=dark] .colab-df-quickchart {\n",
              "      --bg-color: #3B4455;\n",
              "      --fill-color: #D2E3FC;\n",
              "      --hover-bg-color: #434B5C;\n",
              "      --hover-fill-color: #FFFFFF;\n",
              "      --disabled-bg-color: #3B4455;\n",
              "      --disabled-fill-color: #666;\n",
              "  }\n",
              "\n",
              "  .colab-df-quickchart {\n",
              "    background-color: var(--bg-color);\n",
              "    border: none;\n",
              "    border-radius: 50%;\n",
              "    cursor: pointer;\n",
              "    display: none;\n",
              "    fill: var(--fill-color);\n",
              "    height: 32px;\n",
              "    padding: 0;\n",
              "    width: 32px;\n",
              "  }\n",
              "\n",
              "  .colab-df-quickchart:hover {\n",
              "    background-color: var(--hover-bg-color);\n",
              "    box-shadow: 0 1px 2px rgba(60, 64, 67, 0.3), 0 1px 3px 1px rgba(60, 64, 67, 0.15);\n",
              "    fill: var(--button-hover-fill-color);\n",
              "  }\n",
              "\n",
              "  .colab-df-quickchart-complete:disabled,\n",
              "  .colab-df-quickchart-complete:disabled:hover {\n",
              "    background-color: var(--disabled-bg-color);\n",
              "    fill: var(--disabled-fill-color);\n",
              "    box-shadow: none;\n",
              "  }\n",
              "\n",
              "  .colab-df-spinner {\n",
              "    border: 2px solid var(--fill-color);\n",
              "    border-color: transparent;\n",
              "    border-bottom-color: var(--fill-color);\n",
              "    animation:\n",
              "      spin 1s steps(1) infinite;\n",
              "  }\n",
              "\n",
              "  @keyframes spin {\n",
              "    0% {\n",
              "      border-color: transparent;\n",
              "      border-bottom-color: var(--fill-color);\n",
              "      border-left-color: var(--fill-color);\n",
              "    }\n",
              "    20% {\n",
              "      border-color: transparent;\n",
              "      border-left-color: var(--fill-color);\n",
              "      border-top-color: var(--fill-color);\n",
              "    }\n",
              "    30% {\n",
              "      border-color: transparent;\n",
              "      border-left-color: var(--fill-color);\n",
              "      border-top-color: var(--fill-color);\n",
              "      border-right-color: var(--fill-color);\n",
              "    }\n",
              "    40% {\n",
              "      border-color: transparent;\n",
              "      border-right-color: var(--fill-color);\n",
              "      border-top-color: var(--fill-color);\n",
              "    }\n",
              "    60% {\n",
              "      border-color: transparent;\n",
              "      border-right-color: var(--fill-color);\n",
              "    }\n",
              "    80% {\n",
              "      border-color: transparent;\n",
              "      border-right-color: var(--fill-color);\n",
              "      border-bottom-color: var(--fill-color);\n",
              "    }\n",
              "    90% {\n",
              "      border-color: transparent;\n",
              "      border-bottom-color: var(--fill-color);\n",
              "    }\n",
              "  }\n",
              "</style>\n",
              "\n",
              "  <script>\n",
              "    async function quickchart(key) {\n",
              "      const quickchartButtonEl =\n",
              "        document.querySelector('#' + key + ' button');\n",
              "      quickchartButtonEl.disabled = true;  // To prevent multiple clicks.\n",
              "      quickchartButtonEl.classList.add('colab-df-spinner');\n",
              "      try {\n",
              "        const charts = await google.colab.kernel.invokeFunction(\n",
              "            'suggestCharts', [key], {});\n",
              "      } catch (error) {\n",
              "        console.error('Error during call to suggestCharts:', error);\n",
              "      }\n",
              "      quickchartButtonEl.classList.remove('colab-df-spinner');\n",
              "      quickchartButtonEl.classList.add('colab-df-quickchart-complete');\n",
              "    }\n",
              "    (() => {\n",
              "      let quickchartButtonEl =\n",
              "        document.querySelector('#df-110c11c8-ff18-49c5-9bb4-b1f2688c9ad8 button');\n",
              "      quickchartButtonEl.style.display =\n",
              "        google.colab.kernel.accessAllowed ? 'block' : 'none';\n",
              "    })();\n",
              "  </script>\n",
              "</div>\n",
              "    </div>\n",
              "  </div>\n"
            ]
          },
          "metadata": {},
          "execution_count": 17
        }
      ]
    },
    {
      "cell_type": "code",
      "source": [
        "data.columns"
      ],
      "metadata": {
        "colab": {
          "base_uri": "https://localhost:8080/"
        },
        "id": "y4-86l1N_sYJ",
        "outputId": "26dc6763-df8d-4f5b-e907-5ba133115e72"
      },
      "execution_count": 18,
      "outputs": [
        {
          "output_type": "execute_result",
          "data": {
            "text/plain": [
              "Index(['Age', 'Date of Data Entry', 'Gender', 'Diagnosis', 'Name of Drug',\n",
              "       'Dosage (gram)', 'Route', 'Frequency', 'Duration (days)', 'Indication'],\n",
              "      dtype='object')"
            ]
          },
          "metadata": {},
          "execution_count": 18
        }
      ]
    },
    {
      "cell_type": "markdown",
      "source": [
        "The dataset focuses on the retrospective study of the usage of antibiotics and diseases under the title of antibiotics resistance. The dataset contains\n",
        "\n",
        "- age and gender of the patient\n",
        "\n",
        "- diagnosis of the patient\n",
        "\n",
        "- Antibiotics used to treat patient\n",
        "\n",
        "- Dosage of the antibiotics in grams\n",
        "\n",
        "- Route of application of antibiotics\n",
        "\n",
        "- Frequency of usage of antibiotics\n",
        "\n",
        "- Duration of treatment using antibiotics in days\n",
        "\n",
        "- Indiction of antibiotics"
      ],
      "metadata": {
        "id": "K0YjC4J0WsY5"
      }
    },
    {
      "cell_type": "code",
      "source": [
        "# checking for missing values\n",
        "data.isnull().sum()"
      ],
      "metadata": {
        "colab": {
          "base_uri": "https://localhost:8080/"
        },
        "id": "yqcECm0OhNDI",
        "outputId": "7d926001-2ae9-42da-b0e8-7eba1e6e4bca"
      },
      "execution_count": 39,
      "outputs": [
        {
          "output_type": "execute_result",
          "data": {
            "text/plain": [
              "Age                   0\n",
              "Date of Data Entry    0\n",
              "Gender                0\n",
              "Diagnosis             0\n",
              "Name of Drug          0\n",
              "Dosage (gram)         0\n",
              "Route                 0\n",
              "Frequency             0\n",
              "Duration (days)       0\n",
              "Indication            1\n",
              "dtype: int64"
            ]
          },
          "metadata": {},
          "execution_count": 39
        }
      ]
    },
    {
      "cell_type": "code",
      "source": [
        "data.dropna(inplace=True)"
      ],
      "metadata": {
        "id": "lHiyU4n4hakZ"
      },
      "execution_count": 40,
      "outputs": []
    },
    {
      "cell_type": "code",
      "source": [
        "data.duplicated().sum()"
      ],
      "metadata": {
        "colab": {
          "base_uri": "https://localhost:8080/"
        },
        "id": "YJt1SWlHhPx2",
        "outputId": "c291b99d-bb7f-4aed-aa56-a3a638ddc156"
      },
      "execution_count": 38,
      "outputs": [
        {
          "output_type": "execute_result",
          "data": {
            "text/plain": [
              "7"
            ]
          },
          "metadata": {},
          "execution_count": 38
        }
      ]
    },
    {
      "cell_type": "code",
      "source": [
        "data.drop_duplicates(inplace=True)"
      ],
      "metadata": {
        "id": "XcycAQeIhfIp"
      },
      "execution_count": 41,
      "outputs": []
    },
    {
      "cell_type": "code",
      "source": [
        "#Antibiotics used overview\n",
        "top_10_drug = data['Name of Drug'].value_counts().reset_index()[:10]"
      ],
      "metadata": {
        "id": "Yv_3aS_nVmax"
      },
      "execution_count": 42,
      "outputs": []
    },
    {
      "cell_type": "code",
      "source": [
        "top_10_drug.rename(columns={'index':'Drug','Name of Drug':'Count'},inplace=True)"
      ],
      "metadata": {
        "id": "d8x5_WQIY5Il"
      },
      "execution_count": 43,
      "outputs": []
    },
    {
      "cell_type": "code",
      "source": [
        "plt.figure(figsize=(8,6))\n",
        "sns.set(style='darkgrid')\n",
        "sns.barplot(data=top_10_drug,x='Count',y='Drug',palette='Set2')\n",
        "plt.xlabel('Usage Count')\n",
        "plt.ylabel('Antibiotic')\n",
        "plt.title('Top 10 most used Antibiotics')\n",
        "plt.show()"
      ],
      "metadata": {
        "colab": {
          "base_uri": "https://localhost:8080/",
          "height": 573
        },
        "id": "sOfFHkeXaAoD",
        "outputId": "80869c2a-b499-4c10-b6aa-cceddab46e68"
      },
      "execution_count": 44,
      "outputs": [
        {
          "output_type": "display_data",
          "data": {
            "text/plain": [
              "<Figure size 800x600 with 1 Axes>"
            ],
            "image/png": "[encoded data removed]"
          },
          "metadata": {}
        }
      ]
    },
    {
      "cell_type": "code",
      "source": [
        "data.Gender.value_counts()"
      ],
      "metadata": {
        "colab": {
          "base_uri": "https://localhost:8080/"
        },
        "id": "iuJkC-tMhHjQ",
        "outputId": "911269ff-22b7-491b-84c4-d75385c7a776"
      },
      "execution_count": 45,
      "outputs": [
        {
          "output_type": "execute_result",
          "data": {
            "text/plain": [
              "Male      448\n",
              "Female    375\n",
              "Sex         2\n",
              "Name: Gender, dtype: int64"
            ]
          },
          "metadata": {},
          "execution_count": 45
        }
      ]
    },
    {
      "cell_type": "code",
      "source": [
        "data = data[data['Gender'] != 'Sex']"
      ],
      "metadata": {
        "id": "QmoKqffBiBsh"
      },
      "execution_count": 46,
      "outputs": []
    },
    {
      "cell_type": "code",
      "source": [
        "data['Age'] = data['Age'].astype(int)"
      ],
      "metadata": {
        "id": "Dgb6RRnCmGHK"
      },
      "execution_count": 60,
      "outputs": []
    },
    {
      "cell_type": "code",
      "source": [
        "# Age and Gender distribution\n",
        "fig, axes = plt.subplots(2,1,figsize=(10, 8))\n",
        "\n",
        "# first subplot - Gender distribution\n",
        "sns.set(style='darkgrid')\n",
        "sns.countplot(data=data,x='Gender',palette='Set1',ax=axes[0])\n",
        "axes[0].set_xlabel('Gender')\n",
        "axes[0].set_ylabel('Count')\n",
        "axes[0].set_xticklabels(axes[0].get_xticklabels())\n",
        "\n",
        "# second subplot - Age distribution with male-female ratio\n",
        "age_bins = [20, 30, 40, 50, 60, 70, 80]  # Define your age bins here\n",
        "data['Age Group'] = pd.cut(data['Age'], bins=age_bins)\n",
        "sns.set(style='darkgrid')\n",
        "sns.histplot(data=data,x='Age', hue='Gender', palette='Set1', kde='True', ax=axes[1])\n",
        "axes[1].set_xlabel('Age')\n",
        "axes[1].set_ylabel('Count')\n",
        "axes[1].set_xticklabels(axes[1].get_xticklabels())\n",
        "\n",
        "plt.xticks(rotation=90)\n",
        "plt.tight_layout()\n",
        "plt.show()"
      ],
      "metadata": {
        "colab": {
          "base_uri": "https://localhost:8080/",
          "height": 835
        },
        "id": "n7lGxcUgamK9",
        "outputId": "8fd6da35-9e99-4bac-b44f-55350ef1a260"
      },
      "execution_count": 63,
      "outputs": [
        {
          "output_type": "stream",
          "name": "stderr",
          "text": [
            "<ipython-input-63-3aa1748af528>:18: UserWarning: FixedFormatter should only be used together with FixedLocator\n",
            "  axes[1].set_xticklabels(axes[1].get_xticklabels())\n"
          ]
        },
        {
          "output_type": "display_data",
          "data": {
            "text/plain": [
              "<Figure size 1000x800 with 2 Axes>"
            ],
            "image/png": "[encoded data removed]"
          },
          "metadata": {}
        }
      ]
    },
    {
      "cell_type": "code",
      "source": [],
      "metadata": {
        "id": "o-eY9KAajXO_"
      },
      "execution_count": null,
      "outputs": []
    }
  ]
}